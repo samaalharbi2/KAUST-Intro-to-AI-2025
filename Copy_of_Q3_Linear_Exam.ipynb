{
  "cells": [
    {
      "cell_type": "markdown",
      "metadata": {
        "id": "clFzUDjSKf7e"
      },
      "source": [
        "## Task: Predict Carbon Emissions Based on Satellite Observations\n",
        "\n",
        "* You are provided with a time series satellite observations dataset extracted from Sentinel-5P satelite from 2019 to 2021.\n",
        "\n",
        "* Your objective is to build a regression model that accurately predicts the amount of carbon emissions in the next years.\n",
        "\n",
        "* Your target is the column: \"emission\".\n",
        "\n",
        "* You are provided with the code to download and load the csv file.\n",
        "\n",
        "* Your work will be evaluated based on the completion of the given tasks below.\n",
        "\n",
        "* You are allowed to use any models or libraries you want.\n",
        "    \n",
        "---\n"
      ]
    },
    {
      "cell_type": "code",
      "execution_count": 67,
      "metadata": {
        "id": "52eNhdbzKhRT"
      },
      "outputs": [],
      "source": [
        "import pandas as pd\n",
        "import gdown\n",
        "import kagglehub\n",
        "import os\n",
        "import matplotlib.pyplot as plt\n",
        "import seaborn as sns\n",
        "from sklearn.preprocessing import LabelEncoder\n",
        "from sklearn.metrics import mean_absolute_error"
      ]
    },
    {
      "cell_type": "code",
      "execution_count": 2,
      "metadata": {
        "colab": {
          "base_uri": "https://localhost:8080/"
        },
        "id": "ObIiNW9ia2SO",
        "outputId": "0b5a1506-0f10-4922-a523-63955b35744d"
      },
      "outputs": [
        {
          "output_type": "stream",
          "name": "stdout",
          "text": [
            "Downloading from https://www.kaggle.com/api/v1/datasets/download/mohammad2012191/q3-data?dataset_version_number=1...\n"
          ]
        },
        {
          "output_type": "stream",
          "name": "stderr",
          "text": [
            "100%|██████████| 37.6M/37.6M [00:00<00:00, 158MB/s]"
          ]
        },
        {
          "output_type": "stream",
          "name": "stdout",
          "text": [
            "Extracting files...\n"
          ]
        },
        {
          "output_type": "stream",
          "name": "stderr",
          "text": [
            "\n"
          ]
        },
        {
          "output_type": "stream",
          "name": "stdout",
          "text": [
            "Path to dataset files: /root/.cache/kagglehub/datasets/mohammad2012191/q3-data/versions/1\n"
          ]
        }
      ],
      "source": [
        "path = kagglehub.dataset_download(\"mohammad2012191/q3-data\")\n",
        "\n",
        "print(\"Path to dataset files:\", path)"
      ]
    },
    {
      "cell_type": "code",
      "source": [
        "csv_path = os.path.join(path, \"train.csv\")\n",
        "\n",
        "data = pd.read_csv(csv_path)\n",
        "data.head()"
      ],
      "metadata": {
        "colab": {
          "base_uri": "https://localhost:8080/",
          "height": 256
        },
        "id": "1Hctz82jwvwr",
        "outputId": "3e843c24-555e-4c04-85f3-5519cd6f2667"
      },
      "execution_count": 40,
      "outputs": [
        {
          "output_type": "execute_result",
          "data": {
            "text/plain": [
              "       ID_LAT_LON_YEAR_WEEK  latitude  longitude  year  week_no  \\\n",
              "0  ID_-0.510_29.290_2019_00     -0.51      29.29  2019        0   \n",
              "1  ID_-0.510_29.290_2019_01     -0.51      29.29  2019        1   \n",
              "2  ID_-0.510_29.290_2019_02     -0.51      29.29  2019        2   \n",
              "3  ID_-0.510_29.290_2019_03     -0.51      29.29  2019        3   \n",
              "4  ID_-0.510_29.290_2019_04     -0.51      29.29  2019        4   \n",
              "\n",
              "   SulphurDioxide_SO2_column_number_density  \\\n",
              "0                                 -0.000108   \n",
              "1                                  0.000021   \n",
              "2                                  0.000514   \n",
              "3                                       NaN   \n",
              "4                                 -0.000079   \n",
              "\n",
              "   SulphurDioxide_SO2_column_number_density_amf  \\\n",
              "0                                      0.603019   \n",
              "1                                      0.728214   \n",
              "2                                      0.748199   \n",
              "3                                           NaN   \n",
              "4                                      0.676296   \n",
              "\n",
              "   SulphurDioxide_SO2_slant_column_number_density  \\\n",
              "0                                       -0.000065   \n",
              "1                                        0.000014   \n",
              "2                                        0.000385   \n",
              "3                                             NaN   \n",
              "4                                       -0.000048   \n",
              "\n",
              "   SulphurDioxide_cloud_fraction  SulphurDioxide_sensor_azimuth_angle  ...  \\\n",
              "0                       0.255668                           -98.593887  ...   \n",
              "1                       0.130988                            16.592861  ...   \n",
              "2                       0.110018                            72.795837  ...   \n",
              "3                            NaN                                  NaN  ...   \n",
              "4                       0.121164                             4.121269  ...   \n",
              "\n",
              "   Cloud_cloud_top_height  Cloud_cloud_base_pressure  Cloud_cloud_base_height  \\\n",
              "0             3664.436218               61085.809570              2615.120483   \n",
              "1             3651.190311               66969.478735              3174.572424   \n",
              "2             4216.986492               60068.894448              3516.282669   \n",
              "3             5228.507736               51064.547339              4180.973322   \n",
              "4             3980.598120               63751.125781              3355.710107   \n",
              "\n",
              "   Cloud_cloud_optical_depth  Cloud_surface_albedo  \\\n",
              "0                  15.568533              0.272292   \n",
              "1                   8.690601              0.256830   \n",
              "2                  21.103410              0.251101   \n",
              "3                  15.386899              0.262043   \n",
              "4                   8.114694              0.235847   \n",
              "\n",
              "   Cloud_sensor_azimuth_angle  Cloud_sensor_zenith_angle  \\\n",
              "0                  -12.628986                  35.632416   \n",
              "1                   30.359375                  39.557633   \n",
              "2                   15.377883                  30.401823   \n",
              "3                  -11.293399                  24.380357   \n",
              "4                   38.532263                  37.392979   \n",
              "\n",
              "   Cloud_solar_azimuth_angle  Cloud_solar_zenith_angle  emission  \n",
              "0                -138.786423                 30.752140  3.750994  \n",
              "1                -145.183930                 27.251779  4.025176  \n",
              "2                -142.519545                 26.193296  4.231381  \n",
              "3                -132.665828                 28.829155  4.305286  \n",
              "4                -141.509805                 22.204612  4.347317  \n",
              "\n",
              "[5 rows x 76 columns]"
            ],
            "text/html": [
              "\n",
              "  <div id=\"df-85e513a4-212e-48a5-ae49-ce186948682c\" class=\"colab-df-container\">\n",
              "    <div>\n",
              "<style scoped>\n",
              "    .dataframe tbody tr th:only-of-type {\n",
              "        vertical-align: middle;\n",
              "    }\n",
              "\n",
              "    .dataframe tbody tr th {\n",
              "        vertical-align: top;\n",
              "    }\n",
              "\n",
              "    .dataframe thead th {\n",
              "        text-align: right;\n",
              "    }\n",
              "</style>\n",
              "<table border=\"1\" class=\"dataframe\">\n",
              "  <thead>\n",
              "    <tr style=\"text-align: right;\">\n",
              "      <th></th>\n",
              "      <th>ID_LAT_LON_YEAR_WEEK</th>\n",
              "      <th>latitude</th>\n",
              "      <th>longitude</th>\n",
              "      <th>year</th>\n",
              "      <th>week_no</th>\n",
              "      <th>SulphurDioxide_SO2_column_number_density</th>\n",
              "      <th>SulphurDioxide_SO2_column_number_density_amf</th>\n",
              "      <th>SulphurDioxide_SO2_slant_column_number_density</th>\n",
              "      <th>SulphurDioxide_cloud_fraction</th>\n",
              "      <th>SulphurDioxide_sensor_azimuth_angle</th>\n",
              "      <th>...</th>\n",
              "      <th>Cloud_cloud_top_height</th>\n",
              "      <th>Cloud_cloud_base_pressure</th>\n",
              "      <th>Cloud_cloud_base_height</th>\n",
              "      <th>Cloud_cloud_optical_depth</th>\n",
              "      <th>Cloud_surface_albedo</th>\n",
              "      <th>Cloud_sensor_azimuth_angle</th>\n",
              "      <th>Cloud_sensor_zenith_angle</th>\n",
              "      <th>Cloud_solar_azimuth_angle</th>\n",
              "      <th>Cloud_solar_zenith_angle</th>\n",
              "      <th>emission</th>\n",
              "    </tr>\n",
              "  </thead>\n",
              "  <tbody>\n",
              "    <tr>\n",
              "      <th>0</th>\n",
              "      <td>ID_-0.510_29.290_2019_00</td>\n",
              "      <td>-0.51</td>\n",
              "      <td>29.29</td>\n",
              "      <td>2019</td>\n",
              "      <td>0</td>\n",
              "      <td>-0.000108</td>\n",
              "      <td>0.603019</td>\n",
              "      <td>-0.000065</td>\n",
              "      <td>0.255668</td>\n",
              "      <td>-98.593887</td>\n",
              "      <td>...</td>\n",
              "      <td>3664.436218</td>\n",
              "      <td>61085.809570</td>\n",
              "      <td>2615.120483</td>\n",
              "      <td>15.568533</td>\n",
              "      <td>0.272292</td>\n",
              "      <td>-12.628986</td>\n",
              "      <td>35.632416</td>\n",
              "      <td>-138.786423</td>\n",
              "      <td>30.752140</td>\n",
              "      <td>3.750994</td>\n",
              "    </tr>\n",
              "    <tr>\n",
              "      <th>1</th>\n",
              "      <td>ID_-0.510_29.290_2019_01</td>\n",
              "      <td>-0.51</td>\n",
              "      <td>29.29</td>\n",
              "      <td>2019</td>\n",
              "      <td>1</td>\n",
              "      <td>0.000021</td>\n",
              "      <td>0.728214</td>\n",
              "      <td>0.000014</td>\n",
              "      <td>0.130988</td>\n",
              "      <td>16.592861</td>\n",
              "      <td>...</td>\n",
              "      <td>3651.190311</td>\n",
              "      <td>66969.478735</td>\n",
              "      <td>3174.572424</td>\n",
              "      <td>8.690601</td>\n",
              "      <td>0.256830</td>\n",
              "      <td>30.359375</td>\n",
              "      <td>39.557633</td>\n",
              "      <td>-145.183930</td>\n",
              "      <td>27.251779</td>\n",
              "      <td>4.025176</td>\n",
              "    </tr>\n",
              "    <tr>\n",
              "      <th>2</th>\n",
              "      <td>ID_-0.510_29.290_2019_02</td>\n",
              "      <td>-0.51</td>\n",
              "      <td>29.29</td>\n",
              "      <td>2019</td>\n",
              "      <td>2</td>\n",
              "      <td>0.000514</td>\n",
              "      <td>0.748199</td>\n",
              "      <td>0.000385</td>\n",
              "      <td>0.110018</td>\n",
              "      <td>72.795837</td>\n",
              "      <td>...</td>\n",
              "      <td>4216.986492</td>\n",
              "      <td>60068.894448</td>\n",
              "      <td>3516.282669</td>\n",
              "      <td>21.103410</td>\n",
              "      <td>0.251101</td>\n",
              "      <td>15.377883</td>\n",
              "      <td>30.401823</td>\n",
              "      <td>-142.519545</td>\n",
              "      <td>26.193296</td>\n",
              "      <td>4.231381</td>\n",
              "    </tr>\n",
              "    <tr>\n",
              "      <th>3</th>\n",
              "      <td>ID_-0.510_29.290_2019_03</td>\n",
              "      <td>-0.51</td>\n",
              "      <td>29.29</td>\n",
              "      <td>2019</td>\n",
              "      <td>3</td>\n",
              "      <td>NaN</td>\n",
              "      <td>NaN</td>\n",
              "      <td>NaN</td>\n",
              "      <td>NaN</td>\n",
              "      <td>NaN</td>\n",
              "      <td>...</td>\n",
              "      <td>5228.507736</td>\n",
              "      <td>51064.547339</td>\n",
              "      <td>4180.973322</td>\n",
              "      <td>15.386899</td>\n",
              "      <td>0.262043</td>\n",
              "      <td>-11.293399</td>\n",
              "      <td>24.380357</td>\n",
              "      <td>-132.665828</td>\n",
              "      <td>28.829155</td>\n",
              "      <td>4.305286</td>\n",
              "    </tr>\n",
              "    <tr>\n",
              "      <th>4</th>\n",
              "      <td>ID_-0.510_29.290_2019_04</td>\n",
              "      <td>-0.51</td>\n",
              "      <td>29.29</td>\n",
              "      <td>2019</td>\n",
              "      <td>4</td>\n",
              "      <td>-0.000079</td>\n",
              "      <td>0.676296</td>\n",
              "      <td>-0.000048</td>\n",
              "      <td>0.121164</td>\n",
              "      <td>4.121269</td>\n",
              "      <td>...</td>\n",
              "      <td>3980.598120</td>\n",
              "      <td>63751.125781</td>\n",
              "      <td>3355.710107</td>\n",
              "      <td>8.114694</td>\n",
              "      <td>0.235847</td>\n",
              "      <td>38.532263</td>\n",
              "      <td>37.392979</td>\n",
              "      <td>-141.509805</td>\n",
              "      <td>22.204612</td>\n",
              "      <td>4.347317</td>\n",
              "    </tr>\n",
              "  </tbody>\n",
              "</table>\n",
              "<p>5 rows × 76 columns</p>\n",
              "</div>\n",
              "    <div class=\"colab-df-buttons\">\n",
              "\n",
              "  <div class=\"colab-df-container\">\n",
              "    <button class=\"colab-df-convert\" onclick=\"convertToInteractive('df-85e513a4-212e-48a5-ae49-ce186948682c')\"\n",
              "            title=\"Convert this dataframe to an interactive table.\"\n",
              "            style=\"display:none;\">\n",
              "\n",
              "  <svg xmlns=\"http://www.w3.org/2000/svg\" height=\"24px\" viewBox=\"0 -960 960 960\">\n",
              "    <path d=\"M120-120v-720h720v720H120Zm60-500h600v-160H180v160Zm220 220h160v-160H400v160Zm0 220h160v-160H400v160ZM180-400h160v-160H180v160Zm440 0h160v-160H620v160ZM180-180h160v-160H180v160Zm440 0h160v-160H620v160Z\"/>\n",
              "  </svg>\n",
              "    </button>\n",
              "\n",
              "  <style>\n",
              "    .colab-df-container {\n",
              "      display:flex;\n",
              "      gap: 12px;\n",
              "    }\n",
              "\n",
              "    .colab-df-convert {\n",
              "      background-color: #E8F0FE;\n",
              "      border: none;\n",
              "      border-radius: 50%;\n",
              "      cursor: pointer;\n",
              "      display: none;\n",
              "      fill: #1967D2;\n",
              "      height: 32px;\n",
              "      padding: 0 0 0 0;\n",
              "      width: 32px;\n",
              "    }\n",
              "\n",
              "    .colab-df-convert:hover {\n",
              "      background-color: #E2EBFA;\n",
              "      box-shadow: 0px 1px 2px rgba(60, 64, 67, 0.3), 0px 1px 3px 1px rgba(60, 64, 67, 0.15);\n",
              "      fill: #174EA6;\n",
              "    }\n",
              "\n",
              "    .colab-df-buttons div {\n",
              "      margin-bottom: 4px;\n",
              "    }\n",
              "\n",
              "    [theme=dark] .colab-df-convert {\n",
              "      background-color: #3B4455;\n",
              "      fill: #D2E3FC;\n",
              "    }\n",
              "\n",
              "    [theme=dark] .colab-df-convert:hover {\n",
              "      background-color: #434B5C;\n",
              "      box-shadow: 0px 1px 3px 1px rgba(0, 0, 0, 0.15);\n",
              "      filter: drop-shadow(0px 1px 2px rgba(0, 0, 0, 0.3));\n",
              "      fill: #FFFFFF;\n",
              "    }\n",
              "  </style>\n",
              "\n",
              "    <script>\n",
              "      const buttonEl =\n",
              "        document.querySelector('#df-85e513a4-212e-48a5-ae49-ce186948682c button.colab-df-convert');\n",
              "      buttonEl.style.display =\n",
              "        google.colab.kernel.accessAllowed ? 'block' : 'none';\n",
              "\n",
              "      async function convertToInteractive(key) {\n",
              "        const element = document.querySelector('#df-85e513a4-212e-48a5-ae49-ce186948682c');\n",
              "        const dataTable =\n",
              "          await google.colab.kernel.invokeFunction('convertToInteractive',\n",
              "                                                    [key], {});\n",
              "        if (!dataTable) return;\n",
              "\n",
              "        const docLinkHtml = 'Like what you see? Visit the ' +\n",
              "          '<a target=\"_blank\" href=https://colab.research.google.com/notebooks/data_table.ipynb>data table notebook</a>'\n",
              "          + ' to learn more about interactive tables.';\n",
              "        element.innerHTML = '';\n",
              "        dataTable['output_type'] = 'display_data';\n",
              "        await google.colab.output.renderOutput(dataTable, element);\n",
              "        const docLink = document.createElement('div');\n",
              "        docLink.innerHTML = docLinkHtml;\n",
              "        element.appendChild(docLink);\n",
              "      }\n",
              "    </script>\n",
              "  </div>\n",
              "\n",
              "\n",
              "<div id=\"df-238e577d-7900-4178-945b-dc4249a6c004\">\n",
              "  <button class=\"colab-df-quickchart\" onclick=\"quickchart('df-238e577d-7900-4178-945b-dc4249a6c004')\"\n",
              "            title=\"Suggest charts\"\n",
              "            style=\"display:none;\">\n",
              "\n",
              "<svg xmlns=\"http://www.w3.org/2000/svg\" height=\"24px\"viewBox=\"0 0 24 24\"\n",
              "     width=\"24px\">\n",
              "    <g>\n",
              "        <path d=\"M19 3H5c-1.1 0-2 .9-2 2v14c0 1.1.9 2 2 2h14c1.1 0 2-.9 2-2V5c0-1.1-.9-2-2-2zM9 17H7v-7h2v7zm4 0h-2V7h2v10zm4 0h-2v-4h2v4z\"/>\n",
              "    </g>\n",
              "</svg>\n",
              "  </button>\n",
              "\n",
              "<style>\n",
              "  .colab-df-quickchart {\n",
              "      --bg-color: #E8F0FE;\n",
              "      --fill-color: #1967D2;\n",
              "      --hover-bg-color: #E2EBFA;\n",
              "      --hover-fill-color: #174EA6;\n",
              "      --disabled-fill-color: #AAA;\n",
              "      --disabled-bg-color: #DDD;\n",
              "  }\n",
              "\n",
              "  [theme=dark] .colab-df-quickchart {\n",
              "      --bg-color: #3B4455;\n",
              "      --fill-color: #D2E3FC;\n",
              "      --hover-bg-color: #434B5C;\n",
              "      --hover-fill-color: #FFFFFF;\n",
              "      --disabled-bg-color: #3B4455;\n",
              "      --disabled-fill-color: #666;\n",
              "  }\n",
              "\n",
              "  .colab-df-quickchart {\n",
              "    background-color: var(--bg-color);\n",
              "    border: none;\n",
              "    border-radius: 50%;\n",
              "    cursor: pointer;\n",
              "    display: none;\n",
              "    fill: var(--fill-color);\n",
              "    height: 32px;\n",
              "    padding: 0;\n",
              "    width: 32px;\n",
              "  }\n",
              "\n",
              "  .colab-df-quickchart:hover {\n",
              "    background-color: var(--hover-bg-color);\n",
              "    box-shadow: 0 1px 2px rgba(60, 64, 67, 0.3), 0 1px 3px 1px rgba(60, 64, 67, 0.15);\n",
              "    fill: var(--button-hover-fill-color);\n",
              "  }\n",
              "\n",
              "  .colab-df-quickchart-complete:disabled,\n",
              "  .colab-df-quickchart-complete:disabled:hover {\n",
              "    background-color: var(--disabled-bg-color);\n",
              "    fill: var(--disabled-fill-color);\n",
              "    box-shadow: none;\n",
              "  }\n",
              "\n",
              "  .colab-df-spinner {\n",
              "    border: 2px solid var(--fill-color);\n",
              "    border-color: transparent;\n",
              "    border-bottom-color: var(--fill-color);\n",
              "    animation:\n",
              "      spin 1s steps(1) infinite;\n",
              "  }\n",
              "\n",
              "  @keyframes spin {\n",
              "    0% {\n",
              "      border-color: transparent;\n",
              "      border-bottom-color: var(--fill-color);\n",
              "      border-left-color: var(--fill-color);\n",
              "    }\n",
              "    20% {\n",
              "      border-color: transparent;\n",
              "      border-left-color: var(--fill-color);\n",
              "      border-top-color: var(--fill-color);\n",
              "    }\n",
              "    30% {\n",
              "      border-color: transparent;\n",
              "      border-left-color: var(--fill-color);\n",
              "      border-top-color: var(--fill-color);\n",
              "      border-right-color: var(--fill-color);\n",
              "    }\n",
              "    40% {\n",
              "      border-color: transparent;\n",
              "      border-right-color: var(--fill-color);\n",
              "      border-top-color: var(--fill-color);\n",
              "    }\n",
              "    60% {\n",
              "      border-color: transparent;\n",
              "      border-right-color: var(--fill-color);\n",
              "    }\n",
              "    80% {\n",
              "      border-color: transparent;\n",
              "      border-right-color: var(--fill-color);\n",
              "      border-bottom-color: var(--fill-color);\n",
              "    }\n",
              "    90% {\n",
              "      border-color: transparent;\n",
              "      border-bottom-color: var(--fill-color);\n",
              "    }\n",
              "  }\n",
              "</style>\n",
              "\n",
              "  <script>\n",
              "    async function quickchart(key) {\n",
              "      const quickchartButtonEl =\n",
              "        document.querySelector('#' + key + ' button');\n",
              "      quickchartButtonEl.disabled = true;  // To prevent multiple clicks.\n",
              "      quickchartButtonEl.classList.add('colab-df-spinner');\n",
              "      try {\n",
              "        const charts = await google.colab.kernel.invokeFunction(\n",
              "            'suggestCharts', [key], {});\n",
              "      } catch (error) {\n",
              "        console.error('Error during call to suggestCharts:', error);\n",
              "      }\n",
              "      quickchartButtonEl.classList.remove('colab-df-spinner');\n",
              "      quickchartButtonEl.classList.add('colab-df-quickchart-complete');\n",
              "    }\n",
              "    (() => {\n",
              "      let quickchartButtonEl =\n",
              "        document.querySelector('#df-238e577d-7900-4178-945b-dc4249a6c004 button');\n",
              "      quickchartButtonEl.style.display =\n",
              "        google.colab.kernel.accessAllowed ? 'block' : 'none';\n",
              "    })();\n",
              "  </script>\n",
              "</div>\n",
              "\n",
              "    </div>\n",
              "  </div>\n"
            ],
            "application/vnd.google.colaboratory.intrinsic+json": {
              "type": "dataframe",
              "variable_name": "data"
            }
          },
          "metadata": {},
          "execution_count": 40
        }
      ]
    },
    {
      "cell_type": "code",
      "source": [
        "data.tail()"
      ],
      "metadata": {
        "colab": {
          "base_uri": "https://localhost:8080/",
          "height": 256
        },
        "id": "okh40wiuD9Si",
        "outputId": "54537882-f2ab-4904-daba-56fece9280e8"
      },
      "execution_count": 41,
      "outputs": [
        {
          "output_type": "execute_result",
          "data": {
            "text/plain": [
              "           ID_LAT_LON_YEAR_WEEK  latitude  longitude  year  week_no  \\\n",
              "79018  ID_-3.299_30.301_2021_48    -3.299     30.301  2021       48   \n",
              "79019  ID_-3.299_30.301_2021_49    -3.299     30.301  2021       49   \n",
              "79020  ID_-3.299_30.301_2021_50    -3.299     30.301  2021       50   \n",
              "79021  ID_-3.299_30.301_2021_51    -3.299     30.301  2021       51   \n",
              "79022  ID_-3.299_30.301_2021_52    -3.299     30.301  2021       52   \n",
              "\n",
              "       SulphurDioxide_SO2_column_number_density  \\\n",
              "79018                                  0.000284   \n",
              "79019                                  0.000083   \n",
              "79020                                       NaN   \n",
              "79021                                 -0.000034   \n",
              "79022                                 -0.000091   \n",
              "\n",
              "       SulphurDioxide_SO2_column_number_density_amf  \\\n",
              "79018                                      1.195643   \n",
              "79019                                      1.130868   \n",
              "79020                                           NaN   \n",
              "79021                                      0.879397   \n",
              "79022                                      0.871951   \n",
              "\n",
              "       SulphurDioxide_SO2_slant_column_number_density  \\\n",
              "79018                                        0.000340   \n",
              "79019                                        0.000063   \n",
              "79020                                             NaN   \n",
              "79021                                       -0.000028   \n",
              "79022                                       -0.000079   \n",
              "\n",
              "       SulphurDioxide_cloud_fraction  SulphurDioxide_sensor_azimuth_angle  \\\n",
              "79018                       0.191313                            72.820518   \n",
              "79019                       0.177222                           -12.856753   \n",
              "79020                            NaN                                  NaN   \n",
              "79021                       0.184209                          -100.344827   \n",
              "79022                       0.000000                            76.825638   \n",
              "\n",
              "       ...  Cloud_cloud_top_height  Cloud_cloud_base_pressure  \\\n",
              "79018  ...             5459.185355               60657.101913   \n",
              "79019  ...             5606.449457               60168.191528   \n",
              "79020  ...             6222.646776               56596.027209   \n",
              "79021  ...             7896.456885               46533.348194   \n",
              "79022  ...             7553.295016               47771.681887   \n",
              "\n",
              "       Cloud_cloud_base_height  Cloud_cloud_optical_depth  \\\n",
              "79018              4590.879504                  20.245954   \n",
              "79019              4659.130378                   6.104610   \n",
              "79020              5222.646823                  14.817885   \n",
              "79021              6946.858022                  32.594768   \n",
              "79022              6553.295018                  19.464032   \n",
              "\n",
              "       Cloud_surface_albedo  Cloud_sensor_azimuth_angle  \\\n",
              "79018              0.304797                  -35.140368   \n",
              "79019              0.314015                    4.667058   \n",
              "79020              0.288058                   -0.340922   \n",
              "79021              0.274047                    8.427699   \n",
              "79022              0.226276                  -12.808528   \n",
              "\n",
              "       Cloud_sensor_zenith_angle  Cloud_solar_azimuth_angle  \\\n",
              "79018                  40.113533                -129.935508   \n",
              "79019                  47.528435                -134.252871   \n",
              "79020                  35.328098                -134.731723   \n",
              "79021                  48.295652                -139.447849   \n",
              "79022                  47.923441                -136.299984   \n",
              "\n",
              "       Cloud_solar_zenith_angle   emission  \n",
              "79018                 32.095214  29.404171  \n",
              "79019                 30.771469  29.186497  \n",
              "79020                 30.716166  29.131205  \n",
              "79021                 29.112868  28.125792  \n",
              "79022                 30.246387  27.239302  \n",
              "\n",
              "[5 rows x 76 columns]"
            ],
            "text/html": [
              "\n",
              "  <div id=\"df-20002b8f-03ce-458f-8237-254aaf80ed26\" class=\"colab-df-container\">\n",
              "    <div>\n",
              "<style scoped>\n",
              "    .dataframe tbody tr th:only-of-type {\n",
              "        vertical-align: middle;\n",
              "    }\n",
              "\n",
              "    .dataframe tbody tr th {\n",
              "        vertical-align: top;\n",
              "    }\n",
              "\n",
              "    .dataframe thead th {\n",
              "        text-align: right;\n",
              "    }\n",
              "</style>\n",
              "<table border=\"1\" class=\"dataframe\">\n",
              "  <thead>\n",
              "    <tr style=\"text-align: right;\">\n",
              "      <th></th>\n",
              "      <th>ID_LAT_LON_YEAR_WEEK</th>\n",
              "      <th>latitude</th>\n",
              "      <th>longitude</th>\n",
              "      <th>year</th>\n",
              "      <th>week_no</th>\n",
              "      <th>SulphurDioxide_SO2_column_number_density</th>\n",
              "      <th>SulphurDioxide_SO2_column_number_density_amf</th>\n",
              "      <th>SulphurDioxide_SO2_slant_column_number_density</th>\n",
              "      <th>SulphurDioxide_cloud_fraction</th>\n",
              "      <th>SulphurDioxide_sensor_azimuth_angle</th>\n",
              "      <th>...</th>\n",
              "      <th>Cloud_cloud_top_height</th>\n",
              "      <th>Cloud_cloud_base_pressure</th>\n",
              "      <th>Cloud_cloud_base_height</th>\n",
              "      <th>Cloud_cloud_optical_depth</th>\n",
              "      <th>Cloud_surface_albedo</th>\n",
              "      <th>Cloud_sensor_azimuth_angle</th>\n",
              "      <th>Cloud_sensor_zenith_angle</th>\n",
              "      <th>Cloud_solar_azimuth_angle</th>\n",
              "      <th>Cloud_solar_zenith_angle</th>\n",
              "      <th>emission</th>\n",
              "    </tr>\n",
              "  </thead>\n",
              "  <tbody>\n",
              "    <tr>\n",
              "      <th>79018</th>\n",
              "      <td>ID_-3.299_30.301_2021_48</td>\n",
              "      <td>-3.299</td>\n",
              "      <td>30.301</td>\n",
              "      <td>2021</td>\n",
              "      <td>48</td>\n",
              "      <td>0.000284</td>\n",
              "      <td>1.195643</td>\n",
              "      <td>0.000340</td>\n",
              "      <td>0.191313</td>\n",
              "      <td>72.820518</td>\n",
              "      <td>...</td>\n",
              "      <td>5459.185355</td>\n",
              "      <td>60657.101913</td>\n",
              "      <td>4590.879504</td>\n",
              "      <td>20.245954</td>\n",
              "      <td>0.304797</td>\n",
              "      <td>-35.140368</td>\n",
              "      <td>40.113533</td>\n",
              "      <td>-129.935508</td>\n",
              "      <td>32.095214</td>\n",
              "      <td>29.404171</td>\n",
              "    </tr>\n",
              "    <tr>\n",
              "      <th>79019</th>\n",
              "      <td>ID_-3.299_30.301_2021_49</td>\n",
              "      <td>-3.299</td>\n",
              "      <td>30.301</td>\n",
              "      <td>2021</td>\n",
              "      <td>49</td>\n",
              "      <td>0.000083</td>\n",
              "      <td>1.130868</td>\n",
              "      <td>0.000063</td>\n",
              "      <td>0.177222</td>\n",
              "      <td>-12.856753</td>\n",
              "      <td>...</td>\n",
              "      <td>5606.449457</td>\n",
              "      <td>60168.191528</td>\n",
              "      <td>4659.130378</td>\n",
              "      <td>6.104610</td>\n",
              "      <td>0.314015</td>\n",
              "      <td>4.667058</td>\n",
              "      <td>47.528435</td>\n",
              "      <td>-134.252871</td>\n",
              "      <td>30.771469</td>\n",
              "      <td>29.186497</td>\n",
              "    </tr>\n",
              "    <tr>\n",
              "      <th>79020</th>\n",
              "      <td>ID_-3.299_30.301_2021_50</td>\n",
              "      <td>-3.299</td>\n",
              "      <td>30.301</td>\n",
              "      <td>2021</td>\n",
              "      <td>50</td>\n",
              "      <td>NaN</td>\n",
              "      <td>NaN</td>\n",
              "      <td>NaN</td>\n",
              "      <td>NaN</td>\n",
              "      <td>NaN</td>\n",
              "      <td>...</td>\n",
              "      <td>6222.646776</td>\n",
              "      <td>56596.027209</td>\n",
              "      <td>5222.646823</td>\n",
              "      <td>14.817885</td>\n",
              "      <td>0.288058</td>\n",
              "      <td>-0.340922</td>\n",
              "      <td>35.328098</td>\n",
              "      <td>-134.731723</td>\n",
              "      <td>30.716166</td>\n",
              "      <td>29.131205</td>\n",
              "    </tr>\n",
              "    <tr>\n",
              "      <th>79021</th>\n",
              "      <td>ID_-3.299_30.301_2021_51</td>\n",
              "      <td>-3.299</td>\n",
              "      <td>30.301</td>\n",
              "      <td>2021</td>\n",
              "      <td>51</td>\n",
              "      <td>-0.000034</td>\n",
              "      <td>0.879397</td>\n",
              "      <td>-0.000028</td>\n",
              "      <td>0.184209</td>\n",
              "      <td>-100.344827</td>\n",
              "      <td>...</td>\n",
              "      <td>7896.456885</td>\n",
              "      <td>46533.348194</td>\n",
              "      <td>6946.858022</td>\n",
              "      <td>32.594768</td>\n",
              "      <td>0.274047</td>\n",
              "      <td>8.427699</td>\n",
              "      <td>48.295652</td>\n",
              "      <td>-139.447849</td>\n",
              "      <td>29.112868</td>\n",
              "      <td>28.125792</td>\n",
              "    </tr>\n",
              "    <tr>\n",
              "      <th>79022</th>\n",
              "      <td>ID_-3.299_30.301_2021_52</td>\n",
              "      <td>-3.299</td>\n",
              "      <td>30.301</td>\n",
              "      <td>2021</td>\n",
              "      <td>52</td>\n",
              "      <td>-0.000091</td>\n",
              "      <td>0.871951</td>\n",
              "      <td>-0.000079</td>\n",
              "      <td>0.000000</td>\n",
              "      <td>76.825638</td>\n",
              "      <td>...</td>\n",
              "      <td>7553.295016</td>\n",
              "      <td>47771.681887</td>\n",
              "      <td>6553.295018</td>\n",
              "      <td>19.464032</td>\n",
              "      <td>0.226276</td>\n",
              "      <td>-12.808528</td>\n",
              "      <td>47.923441</td>\n",
              "      <td>-136.299984</td>\n",
              "      <td>30.246387</td>\n",
              "      <td>27.239302</td>\n",
              "    </tr>\n",
              "  </tbody>\n",
              "</table>\n",
              "<p>5 rows × 76 columns</p>\n",
              "</div>\n",
              "    <div class=\"colab-df-buttons\">\n",
              "\n",
              "  <div class=\"colab-df-container\">\n",
              "    <button class=\"colab-df-convert\" onclick=\"convertToInteractive('df-20002b8f-03ce-458f-8237-254aaf80ed26')\"\n",
              "            title=\"Convert this dataframe to an interactive table.\"\n",
              "            style=\"display:none;\">\n",
              "\n",
              "  <svg xmlns=\"http://www.w3.org/2000/svg\" height=\"24px\" viewBox=\"0 -960 960 960\">\n",
              "    <path d=\"M120-120v-720h720v720H120Zm60-500h600v-160H180v160Zm220 220h160v-160H400v160Zm0 220h160v-160H400v160ZM180-400h160v-160H180v160Zm440 0h160v-160H620v160ZM180-180h160v-160H180v160Zm440 0h160v-160H620v160Z\"/>\n",
              "  </svg>\n",
              "    </button>\n",
              "\n",
              "  <style>\n",
              "    .colab-df-container {\n",
              "      display:flex;\n",
              "      gap: 12px;\n",
              "    }\n",
              "\n",
              "    .colab-df-convert {\n",
              "      background-color: #E8F0FE;\n",
              "      border: none;\n",
              "      border-radius: 50%;\n",
              "      cursor: pointer;\n",
              "      display: none;\n",
              "      fill: #1967D2;\n",
              "      height: 32px;\n",
              "      padding: 0 0 0 0;\n",
              "      width: 32px;\n",
              "    }\n",
              "\n",
              "    .colab-df-convert:hover {\n",
              "      background-color: #E2EBFA;\n",
              "      box-shadow: 0px 1px 2px rgba(60, 64, 67, 0.3), 0px 1px 3px 1px rgba(60, 64, 67, 0.15);\n",
              "      fill: #174EA6;\n",
              "    }\n",
              "\n",
              "    .colab-df-buttons div {\n",
              "      margin-bottom: 4px;\n",
              "    }\n",
              "\n",
              "    [theme=dark] .colab-df-convert {\n",
              "      background-color: #3B4455;\n",
              "      fill: #D2E3FC;\n",
              "    }\n",
              "\n",
              "    [theme=dark] .colab-df-convert:hover {\n",
              "      background-color: #434B5C;\n",
              "      box-shadow: 0px 1px 3px 1px rgba(0, 0, 0, 0.15);\n",
              "      filter: drop-shadow(0px 1px 2px rgba(0, 0, 0, 0.3));\n",
              "      fill: #FFFFFF;\n",
              "    }\n",
              "  </style>\n",
              "\n",
              "    <script>\n",
              "      const buttonEl =\n",
              "        document.querySelector('#df-20002b8f-03ce-458f-8237-254aaf80ed26 button.colab-df-convert');\n",
              "      buttonEl.style.display =\n",
              "        google.colab.kernel.accessAllowed ? 'block' : 'none';\n",
              "\n",
              "      async function convertToInteractive(key) {\n",
              "        const element = document.querySelector('#df-20002b8f-03ce-458f-8237-254aaf80ed26');\n",
              "        const dataTable =\n",
              "          await google.colab.kernel.invokeFunction('convertToInteractive',\n",
              "                                                    [key], {});\n",
              "        if (!dataTable) return;\n",
              "\n",
              "        const docLinkHtml = 'Like what you see? Visit the ' +\n",
              "          '<a target=\"_blank\" href=https://colab.research.google.com/notebooks/data_table.ipynb>data table notebook</a>'\n",
              "          + ' to learn more about interactive tables.';\n",
              "        element.innerHTML = '';\n",
              "        dataTable['output_type'] = 'display_data';\n",
              "        await google.colab.output.renderOutput(dataTable, element);\n",
              "        const docLink = document.createElement('div');\n",
              "        docLink.innerHTML = docLinkHtml;\n",
              "        element.appendChild(docLink);\n",
              "      }\n",
              "    </script>\n",
              "  </div>\n",
              "\n",
              "\n",
              "<div id=\"df-042d2fad-3046-40ed-bf09-fa5855d00c6b\">\n",
              "  <button class=\"colab-df-quickchart\" onclick=\"quickchart('df-042d2fad-3046-40ed-bf09-fa5855d00c6b')\"\n",
              "            title=\"Suggest charts\"\n",
              "            style=\"display:none;\">\n",
              "\n",
              "<svg xmlns=\"http://www.w3.org/2000/svg\" height=\"24px\"viewBox=\"0 0 24 24\"\n",
              "     width=\"24px\">\n",
              "    <g>\n",
              "        <path d=\"M19 3H5c-1.1 0-2 .9-2 2v14c0 1.1.9 2 2 2h14c1.1 0 2-.9 2-2V5c0-1.1-.9-2-2-2zM9 17H7v-7h2v7zm4 0h-2V7h2v10zm4 0h-2v-4h2v4z\"/>\n",
              "    </g>\n",
              "</svg>\n",
              "  </button>\n",
              "\n",
              "<style>\n",
              "  .colab-df-quickchart {\n",
              "      --bg-color: #E8F0FE;\n",
              "      --fill-color: #1967D2;\n",
              "      --hover-bg-color: #E2EBFA;\n",
              "      --hover-fill-color: #174EA6;\n",
              "      --disabled-fill-color: #AAA;\n",
              "      --disabled-bg-color: #DDD;\n",
              "  }\n",
              "\n",
              "  [theme=dark] .colab-df-quickchart {\n",
              "      --bg-color: #3B4455;\n",
              "      --fill-color: #D2E3FC;\n",
              "      --hover-bg-color: #434B5C;\n",
              "      --hover-fill-color: #FFFFFF;\n",
              "      --disabled-bg-color: #3B4455;\n",
              "      --disabled-fill-color: #666;\n",
              "  }\n",
              "\n",
              "  .colab-df-quickchart {\n",
              "    background-color: var(--bg-color);\n",
              "    border: none;\n",
              "    border-radius: 50%;\n",
              "    cursor: pointer;\n",
              "    display: none;\n",
              "    fill: var(--fill-color);\n",
              "    height: 32px;\n",
              "    padding: 0;\n",
              "    width: 32px;\n",
              "  }\n",
              "\n",
              "  .colab-df-quickchart:hover {\n",
              "    background-color: var(--hover-bg-color);\n",
              "    box-shadow: 0 1px 2px rgba(60, 64, 67, 0.3), 0 1px 3px 1px rgba(60, 64, 67, 0.15);\n",
              "    fill: var(--button-hover-fill-color);\n",
              "  }\n",
              "\n",
              "  .colab-df-quickchart-complete:disabled,\n",
              "  .colab-df-quickchart-complete:disabled:hover {\n",
              "    background-color: var(--disabled-bg-color);\n",
              "    fill: var(--disabled-fill-color);\n",
              "    box-shadow: none;\n",
              "  }\n",
              "\n",
              "  .colab-df-spinner {\n",
              "    border: 2px solid var(--fill-color);\n",
              "    border-color: transparent;\n",
              "    border-bottom-color: var(--fill-color);\n",
              "    animation:\n",
              "      spin 1s steps(1) infinite;\n",
              "  }\n",
              "\n",
              "  @keyframes spin {\n",
              "    0% {\n",
              "      border-color: transparent;\n",
              "      border-bottom-color: var(--fill-color);\n",
              "      border-left-color: var(--fill-color);\n",
              "    }\n",
              "    20% {\n",
              "      border-color: transparent;\n",
              "      border-left-color: var(--fill-color);\n",
              "      border-top-color: var(--fill-color);\n",
              "    }\n",
              "    30% {\n",
              "      border-color: transparent;\n",
              "      border-left-color: var(--fill-color);\n",
              "      border-top-color: var(--fill-color);\n",
              "      border-right-color: var(--fill-color);\n",
              "    }\n",
              "    40% {\n",
              "      border-color: transparent;\n",
              "      border-right-color: var(--fill-color);\n",
              "      border-top-color: var(--fill-color);\n",
              "    }\n",
              "    60% {\n",
              "      border-color: transparent;\n",
              "      border-right-color: var(--fill-color);\n",
              "    }\n",
              "    80% {\n",
              "      border-color: transparent;\n",
              "      border-right-color: var(--fill-color);\n",
              "      border-bottom-color: var(--fill-color);\n",
              "    }\n",
              "    90% {\n",
              "      border-color: transparent;\n",
              "      border-bottom-color: var(--fill-color);\n",
              "    }\n",
              "  }\n",
              "</style>\n",
              "\n",
              "  <script>\n",
              "    async function quickchart(key) {\n",
              "      const quickchartButtonEl =\n",
              "        document.querySelector('#' + key + ' button');\n",
              "      quickchartButtonEl.disabled = true;  // To prevent multiple clicks.\n",
              "      quickchartButtonEl.classList.add('colab-df-spinner');\n",
              "      try {\n",
              "        const charts = await google.colab.kernel.invokeFunction(\n",
              "            'suggestCharts', [key], {});\n",
              "      } catch (error) {\n",
              "        console.error('Error during call to suggestCharts:', error);\n",
              "      }\n",
              "      quickchartButtonEl.classList.remove('colab-df-spinner');\n",
              "      quickchartButtonEl.classList.add('colab-df-quickchart-complete');\n",
              "    }\n",
              "    (() => {\n",
              "      let quickchartButtonEl =\n",
              "        document.querySelector('#df-042d2fad-3046-40ed-bf09-fa5855d00c6b button');\n",
              "      quickchartButtonEl.style.display =\n",
              "        google.colab.kernel.accessAllowed ? 'block' : 'none';\n",
              "    })();\n",
              "  </script>\n",
              "</div>\n",
              "\n",
              "    </div>\n",
              "  </div>\n"
            ],
            "application/vnd.google.colaboratory.intrinsic+json": {
              "type": "dataframe"
            }
          },
          "metadata": {},
          "execution_count": 41
        }
      ]
    },
    {
      "cell_type": "code",
      "source": [
        "data.sample()"
      ],
      "metadata": {
        "colab": {
          "base_uri": "https://localhost:8080/",
          "height": 130
        },
        "id": "xIIKERRWEDL4",
        "outputId": "d023349b-5b99-4798-a988-d1521067108d"
      },
      "execution_count": 42,
      "outputs": [
        {
          "output_type": "execute_result",
          "data": {
            "text/plain": [
              "           ID_LAT_LON_YEAR_WEEK  latitude  longitude  year  week_no  \\\n",
              "73558  ID_-2.922_29.178_2020_47    -2.922     29.178  2020       47   \n",
              "\n",
              "       SulphurDioxide_SO2_column_number_density  \\\n",
              "73558                                  0.000111   \n",
              "\n",
              "       SulphurDioxide_SO2_column_number_density_amf  \\\n",
              "73558                                      0.870668   \n",
              "\n",
              "       SulphurDioxide_SO2_slant_column_number_density  \\\n",
              "73558                                        0.000088   \n",
              "\n",
              "       SulphurDioxide_cloud_fraction  SulphurDioxide_sensor_azimuth_angle  \\\n",
              "73558                       0.102538                           -56.090759   \n",
              "\n",
              "       ...  Cloud_cloud_top_height  Cloud_cloud_base_pressure  \\\n",
              "73558  ...             6789.110026               55277.016556   \n",
              "\n",
              "       Cloud_cloud_base_height  Cloud_cloud_optical_depth  \\\n",
              "73558              5884.378867                  38.870078   \n",
              "\n",
              "       Cloud_surface_albedo  Cloud_sensor_azimuth_angle  \\\n",
              "73558              0.275575                    24.71991   \n",
              "\n",
              "       Cloud_sensor_zenith_angle  Cloud_solar_azimuth_angle  \\\n",
              "73558                  38.984812                -130.854513   \n",
              "\n",
              "       Cloud_solar_zenith_angle  emission  \n",
              "73558                 29.583346  56.59204  \n",
              "\n",
              "[1 rows x 76 columns]"
            ],
            "text/html": [
              "\n",
              "  <div id=\"df-b2e674e0-7532-461a-80f2-1172a4dfb5da\" class=\"colab-df-container\">\n",
              "    <div>\n",
              "<style scoped>\n",
              "    .dataframe tbody tr th:only-of-type {\n",
              "        vertical-align: middle;\n",
              "    }\n",
              "\n",
              "    .dataframe tbody tr th {\n",
              "        vertical-align: top;\n",
              "    }\n",
              "\n",
              "    .dataframe thead th {\n",
              "        text-align: right;\n",
              "    }\n",
              "</style>\n",
              "<table border=\"1\" class=\"dataframe\">\n",
              "  <thead>\n",
              "    <tr style=\"text-align: right;\">\n",
              "      <th></th>\n",
              "      <th>ID_LAT_LON_YEAR_WEEK</th>\n",
              "      <th>latitude</th>\n",
              "      <th>longitude</th>\n",
              "      <th>year</th>\n",
              "      <th>week_no</th>\n",
              "      <th>SulphurDioxide_SO2_column_number_density</th>\n",
              "      <th>SulphurDioxide_SO2_column_number_density_amf</th>\n",
              "      <th>SulphurDioxide_SO2_slant_column_number_density</th>\n",
              "      <th>SulphurDioxide_cloud_fraction</th>\n",
              "      <th>SulphurDioxide_sensor_azimuth_angle</th>\n",
              "      <th>...</th>\n",
              "      <th>Cloud_cloud_top_height</th>\n",
              "      <th>Cloud_cloud_base_pressure</th>\n",
              "      <th>Cloud_cloud_base_height</th>\n",
              "      <th>Cloud_cloud_optical_depth</th>\n",
              "      <th>Cloud_surface_albedo</th>\n",
              "      <th>Cloud_sensor_azimuth_angle</th>\n",
              "      <th>Cloud_sensor_zenith_angle</th>\n",
              "      <th>Cloud_solar_azimuth_angle</th>\n",
              "      <th>Cloud_solar_zenith_angle</th>\n",
              "      <th>emission</th>\n",
              "    </tr>\n",
              "  </thead>\n",
              "  <tbody>\n",
              "    <tr>\n",
              "      <th>73558</th>\n",
              "      <td>ID_-2.922_29.178_2020_47</td>\n",
              "      <td>-2.922</td>\n",
              "      <td>29.178</td>\n",
              "      <td>2020</td>\n",
              "      <td>47</td>\n",
              "      <td>0.000111</td>\n",
              "      <td>0.870668</td>\n",
              "      <td>0.000088</td>\n",
              "      <td>0.102538</td>\n",
              "      <td>-56.090759</td>\n",
              "      <td>...</td>\n",
              "      <td>6789.110026</td>\n",
              "      <td>55277.016556</td>\n",
              "      <td>5884.378867</td>\n",
              "      <td>38.870078</td>\n",
              "      <td>0.275575</td>\n",
              "      <td>24.71991</td>\n",
              "      <td>38.984812</td>\n",
              "      <td>-130.854513</td>\n",
              "      <td>29.583346</td>\n",
              "      <td>56.59204</td>\n",
              "    </tr>\n",
              "  </tbody>\n",
              "</table>\n",
              "<p>1 rows × 76 columns</p>\n",
              "</div>\n",
              "    <div class=\"colab-df-buttons\">\n",
              "\n",
              "  <div class=\"colab-df-container\">\n",
              "    <button class=\"colab-df-convert\" onclick=\"convertToInteractive('df-b2e674e0-7532-461a-80f2-1172a4dfb5da')\"\n",
              "            title=\"Convert this dataframe to an interactive table.\"\n",
              "            style=\"display:none;\">\n",
              "\n",
              "  <svg xmlns=\"http://www.w3.org/2000/svg\" height=\"24px\" viewBox=\"0 -960 960 960\">\n",
              "    <path d=\"M120-120v-720h720v720H120Zm60-500h600v-160H180v160Zm220 220h160v-160H400v160Zm0 220h160v-160H400v160ZM180-400h160v-160H180v160Zm440 0h160v-160H620v160ZM180-180h160v-160H180v160Zm440 0h160v-160H620v160Z\"/>\n",
              "  </svg>\n",
              "    </button>\n",
              "\n",
              "  <style>\n",
              "    .colab-df-container {\n",
              "      display:flex;\n",
              "      gap: 12px;\n",
              "    }\n",
              "\n",
              "    .colab-df-convert {\n",
              "      background-color: #E8F0FE;\n",
              "      border: none;\n",
              "      border-radius: 50%;\n",
              "      cursor: pointer;\n",
              "      display: none;\n",
              "      fill: #1967D2;\n",
              "      height: 32px;\n",
              "      padding: 0 0 0 0;\n",
              "      width: 32px;\n",
              "    }\n",
              "\n",
              "    .colab-df-convert:hover {\n",
              "      background-color: #E2EBFA;\n",
              "      box-shadow: 0px 1px 2px rgba(60, 64, 67, 0.3), 0px 1px 3px 1px rgba(60, 64, 67, 0.15);\n",
              "      fill: #174EA6;\n",
              "    }\n",
              "\n",
              "    .colab-df-buttons div {\n",
              "      margin-bottom: 4px;\n",
              "    }\n",
              "\n",
              "    [theme=dark] .colab-df-convert {\n",
              "      background-color: #3B4455;\n",
              "      fill: #D2E3FC;\n",
              "    }\n",
              "\n",
              "    [theme=dark] .colab-df-convert:hover {\n",
              "      background-color: #434B5C;\n",
              "      box-shadow: 0px 1px 3px 1px rgba(0, 0, 0, 0.15);\n",
              "      filter: drop-shadow(0px 1px 2px rgba(0, 0, 0, 0.3));\n",
              "      fill: #FFFFFF;\n",
              "    }\n",
              "  </style>\n",
              "\n",
              "    <script>\n",
              "      const buttonEl =\n",
              "        document.querySelector('#df-b2e674e0-7532-461a-80f2-1172a4dfb5da button.colab-df-convert');\n",
              "      buttonEl.style.display =\n",
              "        google.colab.kernel.accessAllowed ? 'block' : 'none';\n",
              "\n",
              "      async function convertToInteractive(key) {\n",
              "        const element = document.querySelector('#df-b2e674e0-7532-461a-80f2-1172a4dfb5da');\n",
              "        const dataTable =\n",
              "          await google.colab.kernel.invokeFunction('convertToInteractive',\n",
              "                                                    [key], {});\n",
              "        if (!dataTable) return;\n",
              "\n",
              "        const docLinkHtml = 'Like what you see? Visit the ' +\n",
              "          '<a target=\"_blank\" href=https://colab.research.google.com/notebooks/data_table.ipynb>data table notebook</a>'\n",
              "          + ' to learn more about interactive tables.';\n",
              "        element.innerHTML = '';\n",
              "        dataTable['output_type'] = 'display_data';\n",
              "        await google.colab.output.renderOutput(dataTable, element);\n",
              "        const docLink = document.createElement('div');\n",
              "        docLink.innerHTML = docLinkHtml;\n",
              "        element.appendChild(docLink);\n",
              "      }\n",
              "    </script>\n",
              "  </div>\n",
              "\n",
              "\n",
              "    </div>\n",
              "  </div>\n"
            ],
            "application/vnd.google.colaboratory.intrinsic+json": {
              "type": "dataframe"
            }
          },
          "metadata": {},
          "execution_count": 42
        }
      ]
    },
    {
      "cell_type": "code",
      "source": [
        "data.info()"
      ],
      "metadata": {
        "colab": {
          "base_uri": "https://localhost:8080/"
        },
        "id": "VkCRzOCyEWG4",
        "outputId": "f46ee547-b344-41e4-cd14-967dc2cbea8b"
      },
      "execution_count": 43,
      "outputs": [
        {
          "output_type": "stream",
          "name": "stdout",
          "text": [
            "<class 'pandas.core.frame.DataFrame'>\n",
            "RangeIndex: 79023 entries, 0 to 79022\n",
            "Data columns (total 76 columns):\n",
            " #   Column                                                    Non-Null Count  Dtype  \n",
            "---  ------                                                    --------------  -----  \n",
            " 0   ID_LAT_LON_YEAR_WEEK                                      79023 non-null  object \n",
            " 1   latitude                                                  79023 non-null  float64\n",
            " 2   longitude                                                 79023 non-null  float64\n",
            " 3   year                                                      79023 non-null  int64  \n",
            " 4   week_no                                                   79023 non-null  int64  \n",
            " 5   SulphurDioxide_SO2_column_number_density                  64414 non-null  float64\n",
            " 6   SulphurDioxide_SO2_column_number_density_amf              64414 non-null  float64\n",
            " 7   SulphurDioxide_SO2_slant_column_number_density            64414 non-null  float64\n",
            " 8   SulphurDioxide_cloud_fraction                             64414 non-null  float64\n",
            " 9   SulphurDioxide_sensor_azimuth_angle                       64414 non-null  float64\n",
            " 10  SulphurDioxide_sensor_zenith_angle                        64414 non-null  float64\n",
            " 11  SulphurDioxide_solar_azimuth_angle                        64414 non-null  float64\n",
            " 12  SulphurDioxide_solar_zenith_angle                         64414 non-null  float64\n",
            " 13  SulphurDioxide_SO2_column_number_density_15km             64414 non-null  float64\n",
            " 14  CarbonMonoxide_CO_column_number_density                   76901 non-null  float64\n",
            " 15  CarbonMonoxide_H2O_column_number_density                  76901 non-null  float64\n",
            " 16  CarbonMonoxide_cloud_height                               76901 non-null  float64\n",
            " 17  CarbonMonoxide_sensor_altitude                            76901 non-null  float64\n",
            " 18  CarbonMonoxide_sensor_azimuth_angle                       76901 non-null  float64\n",
            " 19  CarbonMonoxide_sensor_zenith_angle                        76901 non-null  float64\n",
            " 20  CarbonMonoxide_solar_azimuth_angle                        76901 non-null  float64\n",
            " 21  CarbonMonoxide_solar_zenith_angle                         76901 non-null  float64\n",
            " 22  NitrogenDioxide_NO2_column_number_density                 60703 non-null  float64\n",
            " 23  NitrogenDioxide_tropospheric_NO2_column_number_density    60703 non-null  float64\n",
            " 24  NitrogenDioxide_stratospheric_NO2_column_number_density   60703 non-null  float64\n",
            " 25  NitrogenDioxide_NO2_slant_column_number_density           60703 non-null  float64\n",
            " 26  NitrogenDioxide_tropopause_pressure                       60703 non-null  float64\n",
            " 27  NitrogenDioxide_absorbing_aerosol_index                   60703 non-null  float64\n",
            " 28  NitrogenDioxide_cloud_fraction                            60703 non-null  float64\n",
            " 29  NitrogenDioxide_sensor_altitude                           60703 non-null  float64\n",
            " 30  NitrogenDioxide_sensor_azimuth_angle                      60703 non-null  float64\n",
            " 31  NitrogenDioxide_sensor_zenith_angle                       60703 non-null  float64\n",
            " 32  NitrogenDioxide_solar_azimuth_angle                       60703 non-null  float64\n",
            " 33  NitrogenDioxide_solar_zenith_angle                        60703 non-null  float64\n",
            " 34  Formaldehyde_tropospheric_HCHO_column_number_density      71746 non-null  float64\n",
            " 35  Formaldehyde_tropospheric_HCHO_column_number_density_amf  71746 non-null  float64\n",
            " 36  Formaldehyde_HCHO_slant_column_number_density             71746 non-null  float64\n",
            " 37  Formaldehyde_cloud_fraction                               71746 non-null  float64\n",
            " 38  Formaldehyde_solar_zenith_angle                           71746 non-null  float64\n",
            " 39  Formaldehyde_solar_azimuth_angle                          71746 non-null  float64\n",
            " 40  Formaldehyde_sensor_zenith_angle                          71746 non-null  float64\n",
            " 41  Formaldehyde_sensor_azimuth_angle                         71746 non-null  float64\n",
            " 42  UvAerosolIndex_absorbing_aerosol_index                    78484 non-null  float64\n",
            " 43  UvAerosolIndex_sensor_altitude                            78484 non-null  float64\n",
            " 44  UvAerosolIndex_sensor_azimuth_angle                       78484 non-null  float64\n",
            " 45  UvAerosolIndex_sensor_zenith_angle                        78484 non-null  float64\n",
            " 46  UvAerosolIndex_solar_azimuth_angle                        78484 non-null  float64\n",
            " 47  UvAerosolIndex_solar_zenith_angle                         78484 non-null  float64\n",
            " 48  Ozone_O3_column_number_density                            78475 non-null  float64\n",
            " 49  Ozone_O3_column_number_density_amf                        78475 non-null  float64\n",
            " 50  Ozone_O3_slant_column_number_density                      78475 non-null  float64\n",
            " 51  Ozone_O3_effective_temperature                            78475 non-null  float64\n",
            " 52  Ozone_cloud_fraction                                      78475 non-null  float64\n",
            " 53  Ozone_sensor_azimuth_angle                                78475 non-null  float64\n",
            " 54  Ozone_sensor_zenith_angle                                 78475 non-null  float64\n",
            " 55  Ozone_solar_azimuth_angle                                 78475 non-null  float64\n",
            " 56  Ozone_solar_zenith_angle                                  78475 non-null  float64\n",
            " 57  UvAerosolLayerHeight_aerosol_height                       439 non-null    float64\n",
            " 58  UvAerosolLayerHeight_aerosol_pressure                     439 non-null    float64\n",
            " 59  UvAerosolLayerHeight_aerosol_optical_depth                439 non-null    float64\n",
            " 60  UvAerosolLayerHeight_sensor_zenith_angle                  439 non-null    float64\n",
            " 61  UvAerosolLayerHeight_sensor_azimuth_angle                 439 non-null    float64\n",
            " 62  UvAerosolLayerHeight_solar_azimuth_angle                  439 non-null    float64\n",
            " 63  UvAerosolLayerHeight_solar_zenith_angle                   439 non-null    float64\n",
            " 64  Cloud_cloud_fraction                                      78539 non-null  float64\n",
            " 65  Cloud_cloud_top_pressure                                  78539 non-null  float64\n",
            " 66  Cloud_cloud_top_height                                    78539 non-null  float64\n",
            " 67  Cloud_cloud_base_pressure                                 78539 non-null  float64\n",
            " 68  Cloud_cloud_base_height                                   78539 non-null  float64\n",
            " 69  Cloud_cloud_optical_depth                                 78539 non-null  float64\n",
            " 70  Cloud_surface_albedo                                      78539 non-null  float64\n",
            " 71  Cloud_sensor_azimuth_angle                                78539 non-null  float64\n",
            " 72  Cloud_sensor_zenith_angle                                 78539 non-null  float64\n",
            " 73  Cloud_solar_azimuth_angle                                 78539 non-null  float64\n",
            " 74  Cloud_solar_zenith_angle                                  78539 non-null  float64\n",
            " 75  emission                                                  79023 non-null  float64\n",
            "dtypes: float64(73), int64(2), object(1)\n",
            "memory usage: 45.8+ MB\n"
          ]
        }
      ]
    },
    {
      "cell_type": "markdown",
      "metadata": {
        "id": "GFi1J3pQKjIu"
      },
      "source": [
        "# EDA & Preprocessing"
      ]
    },
    {
      "cell_type": "markdown",
      "metadata": {
        "id": "VvHhN0w6LY04"
      },
      "source": [
        "1. Drop the ID feature (ID_LAT_LON_YEAR_WEEK):"
      ]
    },
    {
      "cell_type": "code",
      "execution_count": 44,
      "metadata": {
        "id": "j3atjyJnLZPH"
      },
      "outputs": [],
      "source": [
        "# 1. TODO\n",
        "data.drop('ID_LAT_LON_YEAR_WEEK',axis=1,inplace=True)"
      ]
    },
    {
      "cell_type": "markdown",
      "metadata": {
        "id": "Nm4I4BGUKn1m"
      },
      "source": [
        "2. Check for the missing values and handle them.\n"
      ]
    },
    {
      "cell_type": "code",
      "execution_count": 45,
      "metadata": {
        "id": "XO2a_eSNKnj5",
        "colab": {
          "base_uri": "https://localhost:8080/",
          "height": 458
        },
        "outputId": "cd4d45c4-c8e1-4d05-8f2a-6b885b67228c"
      },
      "outputs": [
        {
          "output_type": "execute_result",
          "data": {
            "text/plain": [
              "latitude                                        0\n",
              "longitude                                       0\n",
              "year                                            0\n",
              "week_no                                         0\n",
              "SulphurDioxide_SO2_column_number_density    14609\n",
              "                                            ...  \n",
              "Cloud_sensor_azimuth_angle                    484\n",
              "Cloud_sensor_zenith_angle                     484\n",
              "Cloud_solar_azimuth_angle                     484\n",
              "Cloud_solar_zenith_angle                      484\n",
              "emission                                        0\n",
              "Length: 75, dtype: int64"
            ],
            "text/html": [
              "<div>\n",
              "<style scoped>\n",
              "    .dataframe tbody tr th:only-of-type {\n",
              "        vertical-align: middle;\n",
              "    }\n",
              "\n",
              "    .dataframe tbody tr th {\n",
              "        vertical-align: top;\n",
              "    }\n",
              "\n",
              "    .dataframe thead th {\n",
              "        text-align: right;\n",
              "    }\n",
              "</style>\n",
              "<table border=\"1\" class=\"dataframe\">\n",
              "  <thead>\n",
              "    <tr style=\"text-align: right;\">\n",
              "      <th></th>\n",
              "      <th>0</th>\n",
              "    </tr>\n",
              "  </thead>\n",
              "  <tbody>\n",
              "    <tr>\n",
              "      <th>latitude</th>\n",
              "      <td>0</td>\n",
              "    </tr>\n",
              "    <tr>\n",
              "      <th>longitude</th>\n",
              "      <td>0</td>\n",
              "    </tr>\n",
              "    <tr>\n",
              "      <th>year</th>\n",
              "      <td>0</td>\n",
              "    </tr>\n",
              "    <tr>\n",
              "      <th>week_no</th>\n",
              "      <td>0</td>\n",
              "    </tr>\n",
              "    <tr>\n",
              "      <th>SulphurDioxide_SO2_column_number_density</th>\n",
              "      <td>14609</td>\n",
              "    </tr>\n",
              "    <tr>\n",
              "      <th>...</th>\n",
              "      <td>...</td>\n",
              "    </tr>\n",
              "    <tr>\n",
              "      <th>Cloud_sensor_azimuth_angle</th>\n",
              "      <td>484</td>\n",
              "    </tr>\n",
              "    <tr>\n",
              "      <th>Cloud_sensor_zenith_angle</th>\n",
              "      <td>484</td>\n",
              "    </tr>\n",
              "    <tr>\n",
              "      <th>Cloud_solar_azimuth_angle</th>\n",
              "      <td>484</td>\n",
              "    </tr>\n",
              "    <tr>\n",
              "      <th>Cloud_solar_zenith_angle</th>\n",
              "      <td>484</td>\n",
              "    </tr>\n",
              "    <tr>\n",
              "      <th>emission</th>\n",
              "      <td>0</td>\n",
              "    </tr>\n",
              "  </tbody>\n",
              "</table>\n",
              "<p>75 rows × 1 columns</p>\n",
              "</div><br><label><b>dtype:</b> int64</label>"
            ]
          },
          "metadata": {},
          "execution_count": 45
        }
      ],
      "source": [
        "# 2. TODO\n",
        "data.isnull().sum()"
      ]
    },
    {
      "cell_type": "code",
      "source": [
        "data.drop('SulphurDioxide_SO2_column_number_density',axis=1,inplace=True)"
      ],
      "metadata": {
        "id": "-b3Ozf8_FUcz"
      },
      "execution_count": 46,
      "outputs": []
    },
    {
      "cell_type": "code",
      "source": [
        "missing_percentage = data.isnull().mean() * 100\n",
        "\n",
        "columns_to_drop = missing_percentage[missing_percentage > 50].index\n",
        "data.drop(columns=columns_to_drop, inplace=True)\n",
        "\n",
        "print(data.isnull().sum())"
      ],
      "metadata": {
        "colab": {
          "base_uri": "https://localhost:8080/"
        },
        "id": "8QMAoY90FF2E",
        "outputId": "139e3434-e848-4d80-f1f5-f17f19ac6e8c"
      },
      "execution_count": 47,
      "outputs": [
        {
          "output_type": "stream",
          "name": "stdout",
          "text": [
            "latitude                                            0\n",
            "longitude                                           0\n",
            "year                                                0\n",
            "week_no                                             0\n",
            "SulphurDioxide_SO2_column_number_density_amf    14609\n",
            "                                                ...  \n",
            "Cloud_sensor_azimuth_angle                        484\n",
            "Cloud_sensor_zenith_angle                         484\n",
            "Cloud_solar_azimuth_angle                         484\n",
            "Cloud_solar_zenith_angle                          484\n",
            "emission                                            0\n",
            "Length: 67, dtype: int64\n"
          ]
        }
      ]
    },
    {
      "cell_type": "code",
      "source": [
        "data.fillna(data.mean(), inplace=True)"
      ],
      "metadata": {
        "id": "Iml7FVvoFtPn"
      },
      "execution_count": 48,
      "outputs": []
    },
    {
      "cell_type": "code",
      "source": [
        "data.isnull().sum()"
      ],
      "metadata": {
        "colab": {
          "base_uri": "https://localhost:8080/",
          "height": 458
        },
        "id": "v5F0Xc1SFo43",
        "outputId": "f352d4c5-0e8c-4b06-d14d-b1c46d8d9740"
      },
      "execution_count": 49,
      "outputs": [
        {
          "output_type": "execute_result",
          "data": {
            "text/plain": [
              "latitude                                        0\n",
              "longitude                                       0\n",
              "year                                            0\n",
              "week_no                                         0\n",
              "SulphurDioxide_SO2_column_number_density_amf    0\n",
              "                                               ..\n",
              "Cloud_sensor_azimuth_angle                      0\n",
              "Cloud_sensor_zenith_angle                       0\n",
              "Cloud_solar_azimuth_angle                       0\n",
              "Cloud_solar_zenith_angle                        0\n",
              "emission                                        0\n",
              "Length: 67, dtype: int64"
            ],
            "text/html": [
              "<div>\n",
              "<style scoped>\n",
              "    .dataframe tbody tr th:only-of-type {\n",
              "        vertical-align: middle;\n",
              "    }\n",
              "\n",
              "    .dataframe tbody tr th {\n",
              "        vertical-align: top;\n",
              "    }\n",
              "\n",
              "    .dataframe thead th {\n",
              "        text-align: right;\n",
              "    }\n",
              "</style>\n",
              "<table border=\"1\" class=\"dataframe\">\n",
              "  <thead>\n",
              "    <tr style=\"text-align: right;\">\n",
              "      <th></th>\n",
              "      <th>0</th>\n",
              "    </tr>\n",
              "  </thead>\n",
              "  <tbody>\n",
              "    <tr>\n",
              "      <th>latitude</th>\n",
              "      <td>0</td>\n",
              "    </tr>\n",
              "    <tr>\n",
              "      <th>longitude</th>\n",
              "      <td>0</td>\n",
              "    </tr>\n",
              "    <tr>\n",
              "      <th>year</th>\n",
              "      <td>0</td>\n",
              "    </tr>\n",
              "    <tr>\n",
              "      <th>week_no</th>\n",
              "      <td>0</td>\n",
              "    </tr>\n",
              "    <tr>\n",
              "      <th>SulphurDioxide_SO2_column_number_density_amf</th>\n",
              "      <td>0</td>\n",
              "    </tr>\n",
              "    <tr>\n",
              "      <th>...</th>\n",
              "      <td>...</td>\n",
              "    </tr>\n",
              "    <tr>\n",
              "      <th>Cloud_sensor_azimuth_angle</th>\n",
              "      <td>0</td>\n",
              "    </tr>\n",
              "    <tr>\n",
              "      <th>Cloud_sensor_zenith_angle</th>\n",
              "      <td>0</td>\n",
              "    </tr>\n",
              "    <tr>\n",
              "      <th>Cloud_solar_azimuth_angle</th>\n",
              "      <td>0</td>\n",
              "    </tr>\n",
              "    <tr>\n",
              "      <th>Cloud_solar_zenith_angle</th>\n",
              "      <td>0</td>\n",
              "    </tr>\n",
              "    <tr>\n",
              "      <th>emission</th>\n",
              "      <td>0</td>\n",
              "    </tr>\n",
              "  </tbody>\n",
              "</table>\n",
              "<p>67 rows × 1 columns</p>\n",
              "</div><br><label><b>dtype:</b> int64</label>"
            ]
          },
          "metadata": {},
          "execution_count": 49
        }
      ]
    },
    {
      "cell_type": "code",
      "source": [
        "data.columns"
      ],
      "metadata": {
        "colab": {
          "base_uri": "https://localhost:8080/"
        },
        "id": "Na6eV1r5Dblt",
        "outputId": "43658790-df68-4d6e-e0ca-237f40ab6af1"
      },
      "execution_count": 50,
      "outputs": [
        {
          "output_type": "execute_result",
          "data": {
            "text/plain": [
              "Index(['latitude', 'longitude', 'year', 'week_no',\n",
              "       'SulphurDioxide_SO2_column_number_density_amf',\n",
              "       'SulphurDioxide_SO2_slant_column_number_density',\n",
              "       'SulphurDioxide_cloud_fraction', 'SulphurDioxide_sensor_azimuth_angle',\n",
              "       'SulphurDioxide_sensor_zenith_angle',\n",
              "       'SulphurDioxide_solar_azimuth_angle',\n",
              "       'SulphurDioxide_solar_zenith_angle',\n",
              "       'SulphurDioxide_SO2_column_number_density_15km',\n",
              "       'CarbonMonoxide_CO_column_number_density',\n",
              "       'CarbonMonoxide_H2O_column_number_density',\n",
              "       'CarbonMonoxide_cloud_height', 'CarbonMonoxide_sensor_altitude',\n",
              "       'CarbonMonoxide_sensor_azimuth_angle',\n",
              "       'CarbonMonoxide_sensor_zenith_angle',\n",
              "       'CarbonMonoxide_solar_azimuth_angle',\n",
              "       'CarbonMonoxide_solar_zenith_angle',\n",
              "       'NitrogenDioxide_NO2_column_number_density',\n",
              "       'NitrogenDioxide_tropospheric_NO2_column_number_density',\n",
              "       'NitrogenDioxide_stratospheric_NO2_column_number_density',\n",
              "       'NitrogenDioxide_NO2_slant_column_number_density',\n",
              "       'NitrogenDioxide_tropopause_pressure',\n",
              "       'NitrogenDioxide_absorbing_aerosol_index',\n",
              "       'NitrogenDioxide_cloud_fraction', 'NitrogenDioxide_sensor_altitude',\n",
              "       'NitrogenDioxide_sensor_azimuth_angle',\n",
              "       'NitrogenDioxide_sensor_zenith_angle',\n",
              "       'NitrogenDioxide_solar_azimuth_angle',\n",
              "       'NitrogenDioxide_solar_zenith_angle',\n",
              "       'Formaldehyde_tropospheric_HCHO_column_number_density',\n",
              "       'Formaldehyde_tropospheric_HCHO_column_number_density_amf',\n",
              "       'Formaldehyde_HCHO_slant_column_number_density',\n",
              "       'Formaldehyde_cloud_fraction', 'Formaldehyde_solar_zenith_angle',\n",
              "       'Formaldehyde_solar_azimuth_angle', 'Formaldehyde_sensor_zenith_angle',\n",
              "       'Formaldehyde_sensor_azimuth_angle',\n",
              "       'UvAerosolIndex_absorbing_aerosol_index',\n",
              "       'UvAerosolIndex_sensor_altitude', 'UvAerosolIndex_sensor_azimuth_angle',\n",
              "       'UvAerosolIndex_sensor_zenith_angle',\n",
              "       'UvAerosolIndex_solar_azimuth_angle',\n",
              "       'UvAerosolIndex_solar_zenith_angle', 'Ozone_O3_column_number_density',\n",
              "       'Ozone_O3_column_number_density_amf',\n",
              "       'Ozone_O3_slant_column_number_density',\n",
              "       'Ozone_O3_effective_temperature', 'Ozone_cloud_fraction',\n",
              "       'Ozone_sensor_azimuth_angle', 'Ozone_sensor_zenith_angle',\n",
              "       'Ozone_solar_azimuth_angle', 'Ozone_solar_zenith_angle',\n",
              "       'Cloud_cloud_fraction', 'Cloud_cloud_top_pressure',\n",
              "       'Cloud_cloud_top_height', 'Cloud_cloud_base_pressure',\n",
              "       'Cloud_cloud_base_height', 'Cloud_cloud_optical_depth',\n",
              "       'Cloud_surface_albedo', 'Cloud_sensor_azimuth_angle',\n",
              "       'Cloud_sensor_zenith_angle', 'Cloud_solar_azimuth_angle',\n",
              "       'Cloud_solar_zenith_angle', 'emission'],\n",
              "      dtype='object')"
            ]
          },
          "metadata": {},
          "execution_count": 50
        }
      ]
    },
    {
      "cell_type": "markdown",
      "metadata": {
        "id": "jig-L0ezKpk0"
      },
      "source": [
        "3. Plot the \"emission\" histogram."
      ]
    },
    {
      "cell_type": "code",
      "execution_count": 51,
      "metadata": {
        "id": "tNen-D30KrJD",
        "colab": {
          "base_uri": "https://localhost:8080/",
          "height": 564
        },
        "outputId": "f842397e-3755-49e3-b175-92bb26e0678a"
      },
      "outputs": [
        {
          "output_type": "display_data",
          "data": {
            "text/plain": [
              "<Figure size 1000x600 with 1 Axes>"
            ],
            "image/png": "[encoded data removed]"
          },
          "metadata": {}
        }
      ],
      "source": [
        "# 3. TODO\n",
        "plt.figure(figsize=(10, 6))\n",
        "plt.hist(data['emission'], bins=30, color='skyblue', edgecolor='black')\n",
        "plt.title('Histogram of Emission')\n",
        "plt.xlabel('Emission')\n",
        "plt.ylabel('Frequency')\n",
        "plt.grid(True)\n",
        "plt.show()"
      ]
    },
    {
      "cell_type": "markdown",
      "metadata": {
        "id": "7qS_iaWOKseB"
      },
      "source": [
        "4. Plot the \"latitude\" and \"longitude\" using a scatter plot then colorize the points using the \"emission\" column."
      ]
    },
    {
      "cell_type": "code",
      "source": [
        "# 4. TODO\n",
        "plt.figure(figsize=(10,6))\n",
        "sns.scatterplot(x='longitude', y='latitude', hue='emission', data=data, palette='viridis')\n",
        "plt.title(\"Scatter plot of Latitude and Longitude with Emission color coding\")\n",
        "plt.xlabel('Longitude')\n",
        "plt.ylabel('Latitude')\n",
        "plt.show()"
      ],
      "metadata": {
        "colab": {
          "base_uri": "https://localhost:8080/",
          "height": 564
        },
        "id": "5O68KRkBGRu_",
        "outputId": "463e0dff-01cc-4415-e54b-77514c2ab70c"
      },
      "execution_count": 52,
      "outputs": [
        {
          "output_type": "display_data",
          "data": {
            "text/plain": [
              "<Figure size 1000x600 with 1 Axes>"
            ],
            "image/png": "[encoded data removed]"
          },
          "metadata": {}
        }
      ]
    },
    {
      "cell_type": "markdown",
      "metadata": {
        "id": "YSStISDsKvyc"
      },
      "source": [
        "# Feature engineering"
      ]
    },
    {
      "cell_type": "markdown",
      "metadata": {
        "id": "Q--cQbrjKySp"
      },
      "source": [
        "1. Add a new feature representing \"Location\" (To do that, you should convert \"longitude\" and \"latitude\" features to string type, concatenate them and add the result as a new feature)."
      ]
    },
    {
      "cell_type": "code",
      "execution_count": 53,
      "metadata": {
        "id": "a5EF3KoDKxJj",
        "colab": {
          "base_uri": "https://localhost:8080/"
        },
        "outputId": "2bfc4b9b-d852-42cb-d215-9b3e4dcfede1"
      },
      "outputs": [
        {
          "output_type": "stream",
          "name": "stdout",
          "text": [
            "   latitude  longitude     Location\n",
            "0     -0.51      29.29  -0.51,29.29\n",
            "1     -0.51      29.29  -0.51,29.29\n",
            "2     -0.51      29.29  -0.51,29.29\n",
            "3     -0.51      29.29  -0.51,29.29\n",
            "4     -0.51      29.29  -0.51,29.29\n"
          ]
        }
      ],
      "source": [
        "# 1. TODO\n",
        "data['Location'] = data['latitude'].astype(str) + ',' + data['longitude'].astype(str)\n",
        "print(data[['latitude', 'longitude', 'Location']].head())"
      ]
    },
    {
      "cell_type": "markdown",
      "metadata": {
        "id": "pzgr8cpdLpCI"
      },
      "source": [
        "2. Add one aggregation feature representing the average emissions per location (You should groupby \"Location\" feature and take mean of the \"emission\", then merge the result to the data)"
      ]
    },
    {
      "cell_type": "code",
      "source": [
        "average_emission_per_location = data.groupby('Location')['emission'].mean().reset_index()\n",
        "average_emission_per_location.rename(columns={'emission': 'avg_emission_per_location'}, inplace=True)\n",
        "data = data.merge(average_emission_per_location, on='Location', how='left')\n",
        "print(data.columns)\n",
        "print(data[['Location', 'emission', 'avg_emission_per_location']].head())"
      ],
      "metadata": {
        "colab": {
          "base_uri": "https://localhost:8080/"
        },
        "id": "BPmhRjDNH8b6",
        "outputId": "74a38a17-1e50-4fa1-e8f9-250e651ad2ee"
      },
      "execution_count": 58,
      "outputs": [
        {
          "output_type": "stream",
          "name": "stdout",
          "text": [
            "Index(['latitude', 'longitude', 'year', 'week_no',\n",
            "       'SulphurDioxide_SO2_column_number_density_amf',\n",
            "       'SulphurDioxide_SO2_slant_column_number_density',\n",
            "       'SulphurDioxide_cloud_fraction', 'SulphurDioxide_sensor_azimuth_angle',\n",
            "       'SulphurDioxide_sensor_zenith_angle',\n",
            "       'SulphurDioxide_solar_azimuth_angle',\n",
            "       'SulphurDioxide_solar_zenith_angle',\n",
            "       'SulphurDioxide_SO2_column_number_density_15km',\n",
            "       'CarbonMonoxide_CO_column_number_density',\n",
            "       'CarbonMonoxide_H2O_column_number_density',\n",
            "       'CarbonMonoxide_cloud_height', 'CarbonMonoxide_sensor_altitude',\n",
            "       'CarbonMonoxide_sensor_azimuth_angle',\n",
            "       'CarbonMonoxide_sensor_zenith_angle',\n",
            "       'CarbonMonoxide_solar_azimuth_angle',\n",
            "       'CarbonMonoxide_solar_zenith_angle',\n",
            "       'NitrogenDioxide_NO2_column_number_density',\n",
            "       'NitrogenDioxide_tropospheric_NO2_column_number_density',\n",
            "       'NitrogenDioxide_stratospheric_NO2_column_number_density',\n",
            "       'NitrogenDioxide_NO2_slant_column_number_density',\n",
            "       'NitrogenDioxide_tropopause_pressure',\n",
            "       'NitrogenDioxide_absorbing_aerosol_index',\n",
            "       'NitrogenDioxide_cloud_fraction', 'NitrogenDioxide_sensor_altitude',\n",
            "       'NitrogenDioxide_sensor_azimuth_angle',\n",
            "       'NitrogenDioxide_sensor_zenith_angle',\n",
            "       'NitrogenDioxide_solar_azimuth_angle',\n",
            "       'NitrogenDioxide_solar_zenith_angle',\n",
            "       'Formaldehyde_tropospheric_HCHO_column_number_density',\n",
            "       'Formaldehyde_tropospheric_HCHO_column_number_density_amf',\n",
            "       'Formaldehyde_HCHO_slant_column_number_density',\n",
            "       'Formaldehyde_cloud_fraction', 'Formaldehyde_solar_zenith_angle',\n",
            "       'Formaldehyde_solar_azimuth_angle', 'Formaldehyde_sensor_zenith_angle',\n",
            "       'Formaldehyde_sensor_azimuth_angle',\n",
            "       'UvAerosolIndex_absorbing_aerosol_index',\n",
            "       'UvAerosolIndex_sensor_altitude', 'UvAerosolIndex_sensor_azimuth_angle',\n",
            "       'UvAerosolIndex_sensor_zenith_angle',\n",
            "       'UvAerosolIndex_solar_azimuth_angle',\n",
            "       'UvAerosolIndex_solar_zenith_angle', 'Ozone_O3_column_number_density',\n",
            "       'Ozone_O3_column_number_density_amf',\n",
            "       'Ozone_O3_slant_column_number_density',\n",
            "       'Ozone_O3_effective_temperature', 'Ozone_cloud_fraction',\n",
            "       'Ozone_sensor_azimuth_angle', 'Ozone_sensor_zenith_angle',\n",
            "       'Ozone_solar_azimuth_angle', 'Ozone_solar_zenith_angle',\n",
            "       'Cloud_cloud_fraction', 'Cloud_cloud_top_pressure',\n",
            "       'Cloud_cloud_top_height', 'Cloud_cloud_base_pressure',\n",
            "       'Cloud_cloud_base_height', 'Cloud_cloud_optical_depth',\n",
            "       'Cloud_surface_albedo', 'Cloud_sensor_azimuth_angle',\n",
            "       'Cloud_sensor_zenith_angle', 'Cloud_solar_azimuth_angle',\n",
            "       'Cloud_solar_zenith_angle', 'emission', 'Location',\n",
            "       'avg_emission_per_location'],\n",
            "      dtype='object')\n",
            "      Location  emission  avg_emission_per_location\n",
            "0  -0.51,29.29  3.750994                   4.272966\n",
            "1  -0.51,29.29  4.025176                   4.272966\n",
            "2  -0.51,29.29  4.231381                   4.272966\n",
            "3  -0.51,29.29  4.305286                   4.272966\n",
            "4  -0.51,29.29  4.347317                   4.272966\n"
          ]
        }
      ]
    },
    {
      "cell_type": "markdown",
      "metadata": {
        "id": "Y-5wgWFvLrgx"
      },
      "source": [
        "3. Use Label encoder to encode all the categorical features"
      ]
    },
    {
      "cell_type": "code",
      "execution_count": 60,
      "metadata": {
        "id": "ILQ6DoPsLtNx",
        "colab": {
          "base_uri": "https://localhost:8080/"
        },
        "outputId": "27dd5cb3-2434-4aea-d22d-28eca2b38acb"
      },
      "outputs": [
        {
          "output_type": "execute_result",
          "data": {
            "text/plain": [
              "array([ 3.7509942,  4.0251765,  4.231381 , ..., 29.131205 , 28.125792 ,\n",
              "       27.239302 ])"
            ]
          },
          "metadata": {},
          "execution_count": 60
        }
      ],
      "source": [
        "# 3. TODO\n",
        "data[\"emission\"].unique()"
      ]
    },
    {
      "cell_type": "code",
      "source": [
        "label_encoder = LabelEncoder()"
      ],
      "metadata": {
        "id": "PbDvwEhxLAWy"
      },
      "execution_count": 68,
      "outputs": []
    },
    {
      "cell_type": "code",
      "source": [
        "# تحويل العمود 'Location' إلى قيم عددية\n",
        "X_train['Location'] = label_encoder.fit_transform(X_train['Location'])\n",
        "X_valid['Location'] = label_encoder.transform(X_valid['Location'])\n",
        "\n",
        "# تحقق من البيانات\n",
        "print(X_train[['Location']].head())"
      ],
      "metadata": {
        "colab": {
          "base_uri": "https://localhost:8080/"
        },
        "id": "6ysxXWMJK2Vk",
        "outputId": "999a9914-b3ca-4412-dfcc-0d280a431ba0"
      },
      "execution_count": 69,
      "outputs": [
        {
          "output_type": "stream",
          "name": "stdout",
          "text": [
            "   Location\n",
            "0         0\n",
            "1         0\n",
            "2         0\n",
            "3         0\n",
            "4         0\n"
          ]
        }
      ]
    },
    {
      "cell_type": "code",
      "source": [
        "# تحويل العمود 'Location' إلى قيم عددية في X_train\n",
        "X_train['Location'] = label_encoder.fit_transform(X_train['Location'])\n",
        "\n",
        "# تحويل العمود 'Location' إلى قيم عددية في X_valid (باستخدام نفس التحويل)\n",
        "X_valid['Location'] = label_encoder.transform(X_valid['Location'])\n",
        "\n",
        "# تحقق من التغيير\n",
        "print(\"First 5 rows of X_train['Location']:\")\n",
        "print(X_train['Location'].head())  # تأكد من أن العمود تحول إلى قيم عددية\n",
        "print(f\"Data type of 'Location' column in X_train: {X_train['Location'].dtype}\")\n",
        "print(f\"Data type of 'Location' column in X_valid: {X_valid['Location'].dtype}\")"
      ],
      "metadata": {
        "colab": {
          "base_uri": "https://localhost:8080/"
        },
        "id": "tPtzEFVhLnWx",
        "outputId": "abb9cba6-b286-4120-a191-d0f2b1c1443d"
      },
      "execution_count": 74,
      "outputs": [
        {
          "output_type": "stream",
          "name": "stdout",
          "text": [
            "First 5 rows of X_train['Location']:\n",
            "0    0\n",
            "1    0\n",
            "2    0\n",
            "3    0\n",
            "4    0\n",
            "Name: Location, dtype: int64\n",
            "Data type of 'Location' column in X_train: int64\n",
            "Data type of 'Location' column in X_valid: int64\n"
          ]
        }
      ]
    },
    {
      "cell_type": "code",
      "source": [
        "data.info()"
      ],
      "metadata": {
        "colab": {
          "base_uri": "https://localhost:8080/"
        },
        "id": "49aLNThLLP_1",
        "outputId": "144b36a0-86b4-4413-b220-28cbbbb91ff3"
      },
      "execution_count": 75,
      "outputs": [
        {
          "output_type": "stream",
          "name": "stdout",
          "text": [
            "<class 'pandas.core.frame.DataFrame'>\n",
            "RangeIndex: 79023 entries, 0 to 79022\n",
            "Data columns (total 69 columns):\n",
            " #   Column                                                    Non-Null Count  Dtype  \n",
            "---  ------                                                    --------------  -----  \n",
            " 0   latitude                                                  79023 non-null  float64\n",
            " 1   longitude                                                 79023 non-null  float64\n",
            " 2   year                                                      79023 non-null  int64  \n",
            " 3   week_no                                                   79023 non-null  int64  \n",
            " 4   SulphurDioxide_SO2_column_number_density_amf              79023 non-null  float64\n",
            " 5   SulphurDioxide_SO2_slant_column_number_density            79023 non-null  float64\n",
            " 6   SulphurDioxide_cloud_fraction                             79023 non-null  float64\n",
            " 7   SulphurDioxide_sensor_azimuth_angle                       79023 non-null  float64\n",
            " 8   SulphurDioxide_sensor_zenith_angle                        79023 non-null  float64\n",
            " 9   SulphurDioxide_solar_azimuth_angle                        79023 non-null  float64\n",
            " 10  SulphurDioxide_solar_zenith_angle                         79023 non-null  float64\n",
            " 11  SulphurDioxide_SO2_column_number_density_15km             79023 non-null  float64\n",
            " 12  CarbonMonoxide_CO_column_number_density                   79023 non-null  float64\n",
            " 13  CarbonMonoxide_H2O_column_number_density                  79023 non-null  float64\n",
            " 14  CarbonMonoxide_cloud_height                               79023 non-null  float64\n",
            " 15  CarbonMonoxide_sensor_altitude                            79023 non-null  float64\n",
            " 16  CarbonMonoxide_sensor_azimuth_angle                       79023 non-null  float64\n",
            " 17  CarbonMonoxide_sensor_zenith_angle                        79023 non-null  float64\n",
            " 18  CarbonMonoxide_solar_azimuth_angle                        79023 non-null  float64\n",
            " 19  CarbonMonoxide_solar_zenith_angle                         79023 non-null  float64\n",
            " 20  NitrogenDioxide_NO2_column_number_density                 79023 non-null  float64\n",
            " 21  NitrogenDioxide_tropospheric_NO2_column_number_density    79023 non-null  float64\n",
            " 22  NitrogenDioxide_stratospheric_NO2_column_number_density   79023 non-null  float64\n",
            " 23  NitrogenDioxide_NO2_slant_column_number_density           79023 non-null  float64\n",
            " 24  NitrogenDioxide_tropopause_pressure                       79023 non-null  float64\n",
            " 25  NitrogenDioxide_absorbing_aerosol_index                   79023 non-null  float64\n",
            " 26  NitrogenDioxide_cloud_fraction                            79023 non-null  float64\n",
            " 27  NitrogenDioxide_sensor_altitude                           79023 non-null  float64\n",
            " 28  NitrogenDioxide_sensor_azimuth_angle                      79023 non-null  float64\n",
            " 29  NitrogenDioxide_sensor_zenith_angle                       79023 non-null  float64\n",
            " 30  NitrogenDioxide_solar_azimuth_angle                       79023 non-null  float64\n",
            " 31  NitrogenDioxide_solar_zenith_angle                        79023 non-null  float64\n",
            " 32  Formaldehyde_tropospheric_HCHO_column_number_density      79023 non-null  float64\n",
            " 33  Formaldehyde_tropospheric_HCHO_column_number_density_amf  79023 non-null  float64\n",
            " 34  Formaldehyde_HCHO_slant_column_number_density             79023 non-null  float64\n",
            " 35  Formaldehyde_cloud_fraction                               79023 non-null  float64\n",
            " 36  Formaldehyde_solar_zenith_angle                           79023 non-null  float64\n",
            " 37  Formaldehyde_solar_azimuth_angle                          79023 non-null  float64\n",
            " 38  Formaldehyde_sensor_zenith_angle                          79023 non-null  float64\n",
            " 39  Formaldehyde_sensor_azimuth_angle                         79023 non-null  float64\n",
            " 40  UvAerosolIndex_absorbing_aerosol_index                    79023 non-null  float64\n",
            " 41  UvAerosolIndex_sensor_altitude                            79023 non-null  float64\n",
            " 42  UvAerosolIndex_sensor_azimuth_angle                       79023 non-null  float64\n",
            " 43  UvAerosolIndex_sensor_zenith_angle                        79023 non-null  float64\n",
            " 44  UvAerosolIndex_solar_azimuth_angle                        79023 non-null  float64\n",
            " 45  UvAerosolIndex_solar_zenith_angle                         79023 non-null  float64\n",
            " 46  Ozone_O3_column_number_density                            79023 non-null  float64\n",
            " 47  Ozone_O3_column_number_density_amf                        79023 non-null  float64\n",
            " 48  Ozone_O3_slant_column_number_density                      79023 non-null  float64\n",
            " 49  Ozone_O3_effective_temperature                            79023 non-null  float64\n",
            " 50  Ozone_cloud_fraction                                      79023 non-null  float64\n",
            " 51  Ozone_sensor_azimuth_angle                                79023 non-null  float64\n",
            " 52  Ozone_sensor_zenith_angle                                 79023 non-null  float64\n",
            " 53  Ozone_solar_azimuth_angle                                 79023 non-null  float64\n",
            " 54  Ozone_solar_zenith_angle                                  79023 non-null  float64\n",
            " 55  Cloud_cloud_fraction                                      79023 non-null  float64\n",
            " 56  Cloud_cloud_top_pressure                                  79023 non-null  float64\n",
            " 57  Cloud_cloud_top_height                                    79023 non-null  float64\n",
            " 58  Cloud_cloud_base_pressure                                 79023 non-null  float64\n",
            " 59  Cloud_cloud_base_height                                   79023 non-null  float64\n",
            " 60  Cloud_cloud_optical_depth                                 79023 non-null  float64\n",
            " 61  Cloud_surface_albedo                                      79023 non-null  float64\n",
            " 62  Cloud_sensor_azimuth_angle                                79023 non-null  float64\n",
            " 63  Cloud_sensor_zenith_angle                                 79023 non-null  float64\n",
            " 64  Cloud_solar_azimuth_angle                                 79023 non-null  float64\n",
            " 65  Cloud_solar_zenith_angle                                  79023 non-null  float64\n",
            " 66  emission                                                  79023 non-null  float64\n",
            " 67  Location                                                  79023 non-null  object \n",
            " 68  avg_emission_per_location                                 79023 non-null  float64\n",
            "dtypes: float64(66), int64(2), object(1)\n",
            "memory usage: 41.6+ MB\n"
          ]
        }
      ]
    },
    {
      "cell_type": "markdown",
      "metadata": {
        "id": "8CpSCxVXLuXI"
      },
      "source": [
        "# Modeling"
      ]
    },
    {
      "cell_type": "markdown",
      "metadata": {
        "id": "V-WArrwMLyjY"
      },
      "source": [
        "### Baseline:"
      ]
    },
    {
      "cell_type": "markdown",
      "metadata": {
        "id": "SdTV42S7L0N-"
      },
      "source": [
        "1. Create a baseline using the \"emission\" median and calculate MAE score."
      ]
    },
    {
      "cell_type": "code",
      "execution_count": 70,
      "metadata": {
        "id": "RbzlXslFLxFz",
        "colab": {
          "base_uri": "https://localhost:8080/"
        },
        "outputId": "9d07c12c-6b9c-4b04-ecea-35d3ca59d1f0"
      },
      "outputs": [
        {
          "output_type": "stream",
          "name": "stdout",
          "text": [
            "Baseline MAE (using median): 67.10104302548434\n"
          ]
        }
      ],
      "source": [
        "# 1. TODO\n",
        "emission_median = data['emission'].median()\n",
        "y_true = data['emission']\n",
        "mae_baseline = mean_absolute_error(y_true, [emission_median] * len(y_true))\n",
        "print(f\"Baseline MAE (using median): {mae_baseline}\")"
      ]
    },
    {
      "cell_type": "markdown",
      "metadata": {
        "id": "vjUDnm35L1-C"
      },
      "source": [
        "2. Perform a Time-Based Train-Test Split:\n",
        "  * You will use the \"year\" column to split data manually using pandas.\n",
        "  * Use all samples from 2019 and 2020 as the training set.\n",
        "  * Use all samples from 2021 as the validation set.\n",
        "  * Construct X_train, X_valid, y_train, y_valid"
      ]
    },
    {
      "cell_type": "code",
      "execution_count": 71,
      "metadata": {
        "id": "STZgP3gqL1Zy"
      },
      "outputs": [],
      "source": [
        "# 2. TODO\n",
        "train_data = data[data['year'] < 2021]\n",
        "valid_data = data[data['year'] == 2021]\n",
        "\n",
        "X_train = train_data.drop(columns=['emission'])\n",
        "y_train = train_data['emission']\n",
        "\n",
        "X_valid = valid_data.drop(columns=['emission'])\n",
        "y_valid = valid_data['emission']"
      ]
    },
    {
      "cell_type": "markdown",
      "metadata": {
        "id": "lGy-kSxYL4JB"
      },
      "source": [
        "3. Train a LGBMRegressor on the training data."
      ]
    },
    {
      "cell_type": "code",
      "source": [
        "# 3. TODO\n",
        "import lightgbm as lgb\n",
        "from sklearn.metrics import mean_absolute_error\n",
        "\n",
        "# تدريب نموذج LightGBM\n",
        "lgbm_model = lgb.LGBMRegressor()\n",
        "lgbm_model.fit(X_train, y_train)\n",
        "\n",
        "# التنبؤ بالقيم\n",
        "y_pred_valid = lgbm_model.predict(X_valid)\n",
        "\n",
        "# حساب MAE (الخطأ المطلق المتوسط)\n",
        "mae_model = mean_absolute_error(y_valid, y_pred_valid)\n",
        "print(f\"Model MAE: {mae_model}\")"
      ],
      "metadata": {
        "id": "E2oJ7DzzL64L"
      },
      "execution_count": null,
      "outputs": []
    },
    {
      "cell_type": "markdown",
      "metadata": {
        "id": "HtAvokFEL7Bb"
      },
      "source": [
        "4. Evaluate the Model on the validation data Using MAE"
      ]
    },
    {
      "cell_type": "code",
      "execution_count": null,
      "metadata": {
        "id": "5lIY4TvJL8vB"
      },
      "outputs": [],
      "source": [
        "# 4. TODO\n",
        "lgb.plot_importance(lgbm_model, max_num_features=10, importance_type='split', title='Feature Importance')\n",
        "plt.show()"
      ]
    },
    {
      "cell_type": "markdown",
      "metadata": {
        "id": "AeWKRl20L9yJ"
      },
      "source": [
        "5. Plot the features importance of your model."
      ]
    },
    {
      "cell_type": "code",
      "execution_count": null,
      "metadata": {
        "id": "ZMqu82anMAX1"
      },
      "outputs": [],
      "source": [
        "# 5. TODO\n",
        "plt.figure(figsize=(10,6))\n",
        "plt.hist(y_pred_valid, bins=30, alpha=0.7, label='Predicted')\n",
        "plt.hist(y_valid, bins=30, alpha=0.7, label='True', color='orange')\n",
        "plt.title('Distribution of True vs Predicted Emission')\n",
        "plt.xlabel('Emission')\n",
        "plt.ylabel('Frequency')\n",
        "plt.legend()\n",
        "plt.show()"
      ]
    },
    {
      "cell_type": "markdown",
      "metadata": {
        "id": "XfMe_YXSMBh0"
      },
      "source": [
        "6. Plot the validation predictions using a histogram."
      ]
    },
    {
      "cell_type": "code",
      "execution_count": null,
      "metadata": {
        "id": "ikggyDItMC2j"
      },
      "outputs": [],
      "source": [
        "# 6. TODO"
      ]
    },
    {
      "cell_type": "markdown",
      "metadata": {
        "id": "ZKeypO_EZaKe"
      },
      "source": [
        "Good luck in the exam x)\n",
        "\n",
        "Prepared by: Mohamed Eltayeb\n"
      ]
    }
  ],
  "metadata": {
    "colab": {
      "provenance": []
    },
    "kernelspec": {
      "display_name": "Python 3",
      "name": "python3"
    },
    "language_info": {
      "name": "python"
    }
  },
  "nbformat": 4,
  "nbformat_minor": 0
}